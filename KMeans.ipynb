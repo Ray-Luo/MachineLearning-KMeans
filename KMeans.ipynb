{
 "cells": [
  {
   "cell_type": "code",
   "execution_count": 164,
   "metadata": {},
   "outputs": [],
   "source": [
    "import numpy as np\n",
    "class KMeans:\n",
    "    \n",
    "    def __init__(self, k):\n",
    "        self.k = k\n",
    "        \n",
    "    def train(self, data, n_iters):\n",
    "        self.n_features = data.shape[1]\n",
    "        self.n_examples = data.shape[0]\n",
    "        \n",
    "        # find the min and max for each feature\n",
    "        min_val = data.min(axis = 0)\n",
    "        max_val = data.max(axis = 0)\n",
    "        \n",
    "        # random pick centers\n",
    "        self.centers = np.random.rand(self.k, self.n_features) * \\\n",
    "                        (max_val - min_val) + min_val\n",
    "        oldCenters = np.random.rand(self.k, self.n_features) * \\\n",
    "                        (max_val - min_val) + min_val\n",
    "        \n",
    "        count = 0 \n",
    "        # the algorithm terminates when exceeds n_iters or centers stop changing\n",
    "        while count < n_iters and np.sum(np.sum(oldCenters - self.centers)) != 0:\n",
    "            oldCenters = self.centers.copy()\n",
    "            count += 1\n",
    "            # computer the distance from each data point to every center\n",
    "            distances = np.ones((1, self.n_examples)) * \\\n",
    "                        np.sum((data - self.centers[0,:])**2, axis=1)\n",
    "            for j in range(self.k-1):\n",
    "                distances = np.append(distances, np.ones((1, self.n_examples)) * \\\n",
    "                        np.sum((data - self.centers[j+1,:])**2, axis=1), axis=0)\n",
    "            \n",
    "            # get the cloest cluster\n",
    "            cluster = distances.argmin(axis=0)\n",
    "            cluster = np.transpose(cluster * np.ones((1, self.n_examples)))\n",
    "\n",
    "            # update the centers\n",
    "            for j in range(self.k):\n",
    "                this_cluster = np.where(cluster == j, 1, 0)\n",
    "                if sum(this_cluster) > 0:\n",
    "                    self.centers[j,:] = np.sum(data*this_cluster, axis = 0)/np.sum(this_cluster)\n",
    "            \n",
    "        return self.centers\n",
    "    \n",
    "    def predict(self, test_data):\n",
    "        n_examples = test_data.shape[0]\n",
    "        distances = np.ones((1, n_examples)) * np.sum((test_data - self.centers[0,:])**2, axis=1)\n",
    "        for j in range(self.k-1):\n",
    "            distances = np.append(distances, np.ones((1, n_examples)) * np.sum((test_data - self.centers[j+1,:])**2, axis=1), axis = 0)\n",
    "\n",
    "        clusters = distances.argmin(axis=0)\n",
    "        return clusters"
   ]
  },
  {
   "cell_type": "code",
   "execution_count": 165,
   "metadata": {},
   "outputs": [
    {
     "data": {
      "text/plain": [
       "array([1, 0, 1, 2, 1, 0, 1, 2, 1, 0, 1, 0, 2, 0, 1, 2, 2, 1, 2, 1, 1, 2,\n",
       "       1, 0, 0, 2, 1, 1, 1], dtype=int64)"
      ]
     },
     "execution_count": 165,
     "metadata": {},
     "output_type": "execute_result"
    }
   ],
   "source": [
    "import numpy as np\n",
    "from sklearn.datasets import load_iris\n",
    "from sklearn.cross_validation import train_test_split\n",
    "\n",
    "X, y = load_iris(return_X_y = True)\n",
    "np.random.shuffle(X)\n",
    "train_data = X[:int(0.8*X.shape[0]),]\n",
    "test_data = X[int(0.8*X.shape[0])+1:,]\n",
    "kmeans = KMeans(k=3)\n",
    "kmeans.train(train_data,100)\n",
    "kmeans.predict(test_data)"
   ]
  },
  {
   "cell_type": "code",
   "execution_count": null,
   "metadata": {},
   "outputs": [],
   "source": []
  }
 ],
 "metadata": {
  "kernelspec": {
   "display_name": "Python 3",
   "language": "python",
   "name": "python3"
  },
  "language_info": {
   "codemirror_mode": {
    "name": "ipython",
    "version": 3
   },
   "file_extension": ".py",
   "mimetype": "text/x-python",
   "name": "python",
   "nbconvert_exporter": "python",
   "pygments_lexer": "ipython3",
   "version": "3.6.4"
  }
 },
 "nbformat": 4,
 "nbformat_minor": 2
}
