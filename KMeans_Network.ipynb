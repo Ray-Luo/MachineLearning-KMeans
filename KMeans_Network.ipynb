{
 "cells": [
  {
   "cell_type": "code",
   "execution_count": 12,
   "metadata": {},
   "outputs": [],
   "source": [
    "import numpy as np\n",
    "\n",
    "class KMeansNetwork:\n",
    "    \n",
    "    def __init__(self, k):\n",
    "        self.k = k\n",
    "        \n",
    "    def train(self, data, n_epochs=1000, l_rate=0.1):\n",
    "        self.n_examples = data.shape[0]\n",
    "        self.n_features = data.shape[1]\n",
    "        self.weights = np.random.rand(self.k, self.n_features)\n",
    "        \n",
    "        # normalize data\n",
    "        normalizer = np.sqrt(np.sum(data**2, axis=1)) * \\\n",
    "                    np.ones((1,self.n_examples))\n",
    "        data = np.transpose(np.transpose(data)/normalizer)\n",
    "        \n",
    "        for i in range(n_epochs):\n",
    "            for x in data:\n",
    "                activation = np.sum(self.weights * x, axis=1)\n",
    "                winner = np.argmax(activation,axis=0)\n",
    "                self.weights[winner,:] += l_rate * (x - self.weights[winner,:])\n",
    "    \n",
    "    def predict(self, test_data):\n",
    "        prediction = np.array([])\n",
    "        for x in test_data:\n",
    "            activation = np.sum(self.weights * x, axis=1)\n",
    "            winner = np.argmax(activation,axis=0)\n",
    "            prediction = np.append(prediction, winner)\n",
    "        return prediction"
   ]
  },
  {
   "cell_type": "code",
   "execution_count": 20,
   "metadata": {},
   "outputs": [
    {
     "data": {
      "text/plain": [
       "array([1., 0., 2., 2., 1., 2., 2., 0., 2., 0., 0., 2., 2., 2., 0., 1., 0.,\n",
       "       0., 2., 0., 0., 1., 1., 0., 0., 1., 1., 2., 0.])"
      ]
     },
     "execution_count": 20,
     "metadata": {},
     "output_type": "execute_result"
    }
   ],
   "source": [
    "import numpy as np\n",
    "from sklearn.datasets import load_iris\n",
    "from sklearn.cross_validation import train_test_split\n",
    "\n",
    "X, y = load_iris(return_X_y = True)\n",
    "np.random.shuffle(X)\n",
    "train_data = X[:int(0.8*X.shape[0]),]\n",
    "test_data = X[int(0.8*X.shape[0])+1:,]\n",
    "kmeans = KMeansNetwork(k=3)\n",
    "kmeans.train(train_data)\n",
    "kmeans.predict(test_data)"
   ]
  },
  {
   "cell_type": "code",
   "execution_count": null,
   "metadata": {},
   "outputs": [],
   "source": []
  }
 ],
 "metadata": {
  "kernelspec": {
   "display_name": "Python 3",
   "language": "python",
   "name": "python3"
  },
  "language_info": {
   "codemirror_mode": {
    "name": "ipython",
    "version": 3
   },
   "file_extension": ".py",
   "mimetype": "text/x-python",
   "name": "python",
   "nbconvert_exporter": "python",
   "pygments_lexer": "ipython3",
   "version": "3.6.4"
  }
 },
 "nbformat": 4,
 "nbformat_minor": 2
}
